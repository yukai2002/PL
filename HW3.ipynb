{
 "cells": [
  {
   "cell_type": "code",
   "execution_count": 3,
   "id": "8c0de981",
   "metadata": {},
   "outputs": [
    {
     "data": {
      "text/plain": [
       "<Response [200]>"
      ]
     },
     "execution_count": 3,
     "metadata": {},
     "output_type": "execute_result"
    }
   ],
   "source": [
    "import urllib.request as req\n",
    "# 要爬取的網址\n",
    "url = 'https://www.ptt.cc/bbs/tabletennis/index.html'\n",
    "\n",
    "# 取得網頁內容(測試網頁有無回應成功)\n",
    "res = requests.get(url)\n",
    "res"
   ]
  },
  {
   "cell_type": "code",
   "execution_count": 19,
   "id": "8eefd012",
   "metadata": {},
   "outputs": [
    {
     "name": "stdout",
     "output_type": "stream",
     "text": [
      "JSON file downloaded and saved as 'data.json'\n"
     ]
    }
   ],
   "source": [
    "import urllib.request as req\n",
    "import json\n",
    "\n",
    "url = \"https://www.ptt.cc/bbs/tabletennis/index.html\"\n",
    "\n",
    "# Build the request object and add request headers\n",
    "request = req.Request(url, headers={\n",
    "    \"User-Agent\": \"Mozilla/5.0 (Windows NT 10.0; Win64; x64) AppleWebKit/537.36 (KHTML, like Gecko) Chrome/106.0.0.0 Safari/537.36\"\n",
    "})\n",
    "\n",
    "with req.urlopen(request) as response:\n",
    "    data = response.read().decode(\"utf-8\")\n",
    "\n",
    "# Convert the data into a dictionary\n",
    "data_dict = {\"data\": data}\n",
    "\n",
    "# Save the dictionary as a JSON file\n",
    "json_data = json.dumps(data_dict, indent=4)\n",
    "\n",
    "with open(\"data.json\", \"w\") as file:\n",
    "    file.write(json_data)\n",
    "\n",
    "print(\"JSON file downloaded and saved as 'data.json'\")"
   ]
  },
  {
   "cell_type": "code",
   "execution_count": 20,
   "id": "a768737d",
   "metadata": {},
   "outputs": [
    {
     "name": "stdout",
     "output_type": "stream",
     "text": [
      "<title>看板 tabletennis 文章列表 - 批踢踢實業坊</title>\n"
     ]
    }
   ],
   "source": [
    "#解析原始碼\n",
    "import bs4\n",
    "root=bs4.BeautifulSoup(data, \"html.parser\")\n",
    "print(root.title)"
   ]
  },
  {
   "cell_type": "code",
   "execution_count": 21,
   "id": "e6820024",
   "metadata": {},
   "outputs": [
    {
     "name": "stdout",
     "output_type": "stream",
     "text": [
      "看板 tabletennis 文章列表 - 批踢踢實業坊\n"
     ]
    }
   ],
   "source": [
    "#title文字\n",
    "print(root.title.string)"
   ]
  },
  {
   "cell_type": "code",
   "execution_count": 22,
   "id": "09b01561",
   "metadata": {},
   "outputs": [
    {
     "name": "stdout",
     "output_type": "stream",
     "text": [
      "<div class=\"title\">\n",
      "<a href=\"/bbs/tabletennis/M.1682297949.A.274.html\">[心得] 小胖東哥算馬龍養出來的嗎XD</a>\n",
      "</div>\n",
      "[心得] 小胖東哥算馬龍養出來的嗎XD\n"
     ]
    }
   ],
   "source": [
    "#尋找標籤\n",
    "titles=root.find(\"div\",class_=\"title\")\n",
    "print(titles)\n",
    "print(titles.a.string)"
   ]
  },
  {
   "cell_type": "code",
   "execution_count": 23,
   "id": "588d604c",
   "metadata": {},
   "outputs": [
    {
     "name": "stdout",
     "output_type": "stream",
     "text": [
      "[<div class=\"title\">\n",
      "<a href=\"/bbs/tabletennis/M.1682297949.A.274.html\">[心得] 小胖東哥算馬龍養出來的嗎XD</a>\n",
      "</div>, <div class=\"title\">\n",
      "<a href=\"/bbs/tabletennis/M.1682312513.A.D49.html\">[問題] vis的反手膠皮選擇</a>\n",
      "</div>, <div class=\"title\">\n",
      "<a href=\"/bbs/tabletennis/M.1682315032.A.A0E.html\">[賽事] WTT球星挑戰賽曼谷站 4/23-4/29</a>\n",
      "</div>, <div class=\"title\">\n",
      "<a href=\"/bbs/tabletennis/M.1682354269.A.493.html\">[買賣] 球具出清</a>\n",
      "</div>, <div class=\"title\">\n",
      "<a href=\"/bbs/tabletennis/M.1682375791.A.C65.html\">[新聞] 左手疼痛 「小林同學」林昀儒淡定回應會</a>\n",
      "</div>, <div class=\"title\">\n",
      "<a href=\"/bbs/tabletennis/M.1682422359.A.CFF.html\">[新聞] 直落三扳倒德國世錦賽國手 18歲高承睿勇</a>\n",
      "</div>, <div class=\"title\">\n",
      "<a href=\"/bbs/tabletennis/M.1682424037.A.D27.html\">[問題] wtt馬龍對王楚欽有打假球嗎？</a>\n",
      "</div>, <div class=\"title\">\n",
      "<a href=\"/bbs/tabletennis/M.1682437663.A.135.html\">[問題] 力量足的純木板</a>\n",
      "</div>, <div class=\"title\">\n",
      "<a href=\"/bbs/tabletennis/M.1682509774.A.7E6.html\">[買賣] Butterfly 奧恰洛夫alc</a>\n",
      "</div>, <div class=\"title\">\n",
      "<a href=\"/bbs/tabletennis/M.1682583710.A.CBD.html\">[新聞] WTT挑戰賽》5局大戰逆轉日本美少女組合 </a>\n",
      "</div>, <div class=\"title\">\n",
      "<a href=\"/bbs/tabletennis/M.1682713596.A.C15.html\">[徵求] 台北徵教練</a>\n",
      "</div>, <div class=\"title\">\n",
      "<a href=\"/bbs/tabletennis/M.1682819411.A.B7E.html\">[買賣] nittaku tornado king innerforce zlc</a>\n",
      "</div>, <div class=\"title\">\n",
      "<a href=\"/bbs/tabletennis/M.1682912061.A.A7B.html\">[新聞] 日本女將石川佳純30歲退役 曾連續3屆奧</a>\n",
      "</div>, <div class=\"title\">\n",
      "<a href=\"/bbs/tabletennis/M.1682954482.A.F06.html\">[買賣] 吉田海偉  中直</a>\n",
      "</div>, <div class=\"title\">\n",
      "<a href=\"/bbs/tabletennis/M.1683219243.A.1C5.html\">[問題] 台中積分賽</a>\n",
      "</div>, <div class=\"title\">\n",
      "<a href=\"/bbs/tabletennis/M.1683351304.A.A2C.html\">[買賣] 龍5 冰封hrd OC YEO</a>\n",
      "</div>, <div class=\"title\">\n",
      "<a href=\"/bbs/tabletennis/M.1683392295.A.E51.html\">[買賣] 銀河pro01,雷神八一外置及一些入門膠皮</a>\n",
      "</div>, <div class=\"title\">\n",
      "<a href=\"/bbs/tabletennis/M.1683450117.A.EE2.html\">[心得] 看比賽頻道推薦</a>\n",
      "</div>, <div class=\"title\">\n",
      "<a href=\"/bbs/tabletennis/M.1683462343.A.0A0.html\">[Live] 日本巴黎奧運會選拔賽男子決賽</a>\n",
      "</div>, <div class=\"title\">\n",
      "<a href=\"/bbs/tabletennis/M.1683642380.A.C22.html\">[心得] 灌油灌膠對硬度的影響（狂飆3）</a>\n",
      "</div>, <div class=\"title\">\n",
      "<a href=\"/bbs/tabletennis/M.1479141132.A.680.html\">[公告] 桌球版版規</a>\n",
      "</div>, <div class=\"title\">\n",
      "<a href=\"/bbs/tabletennis/M.1628526736.A.17F.html\">[公告] 宣導近期板務</a>\n",
      "</div>, <div class=\"title\">\n",
      "<a href=\"/bbs/tabletennis/M.1681458687.A.973.html\">[留言] 給愛爾達體育台轉播桌球的話</a>\n",
      "</div>, <div class=\"title\">\n",
      "<a href=\"/bbs/tabletennis/M.1681661729.A.EBC.html\">[賽事] WTT澳門冠軍賽 4/17-4/23</a>\n",
      "</div>, <div class=\"title\">\n",
      "<a href=\"/bbs/tabletennis/M.1682315032.A.A0E.html\">[賽事] 20:30決賽 鄭怡靜/李昱諄 曼谷站4/29</a>\n",
      "</div>]\n"
     ]
    }
   ],
   "source": [
    "#找尋所有的標籤\n",
    "title_all=root.find_all(\"div\",class_=\"title\")\n",
    "print(title_all)"
   ]
  },
  {
   "cell_type": "code",
   "execution_count": 24,
   "id": "4e7987f9",
   "metadata": {},
   "outputs": [
    {
     "name": "stdout",
     "output_type": "stream",
     "text": [
      "[心得] 小胖東哥算馬龍養出來的嗎XD\n",
      "[問題] vis的反手膠皮選擇\n",
      "[賽事] WTT球星挑戰賽曼谷站 4/23-4/29\n",
      "[買賣] 球具出清\n",
      "[新聞] 左手疼痛 「小林同學」林昀儒淡定回應會\n",
      "[新聞] 直落三扳倒德國世錦賽國手 18歲高承睿勇\n",
      "[問題] wtt馬龍對王楚欽有打假球嗎？\n",
      "[問題] 力量足的純木板\n",
      "[買賣] Butterfly 奧恰洛夫alc\n",
      "[新聞] WTT挑戰賽》5局大戰逆轉日本美少女組合 \n",
      "[徵求] 台北徵教練\n",
      "[買賣] nittaku tornado king innerforce zlc\n",
      "[新聞] 日本女將石川佳純30歲退役 曾連續3屆奧\n",
      "[買賣] 吉田海偉  中直\n",
      "[問題] 台中積分賽\n",
      "[買賣] 龍5 冰封hrd OC YEO\n",
      "[買賣] 銀河pro01,雷神八一外置及一些入門膠皮\n",
      "[心得] 看比賽頻道推薦\n",
      "[Live] 日本巴黎奧運會選拔賽男子決賽\n",
      "[心得] 灌油灌膠對硬度的影響（狂飆3）\n",
      "[公告] 桌球版版規\n",
      "[公告] 宣導近期板務\n",
      "[留言] 給愛爾達體育台轉播桌球的話\n",
      "[賽事] WTT澳門冠軍賽 4/17-4/23\n",
      "[賽事] 20:30決賽 鄭怡靜/李昱諄 曼谷站4/29\n"
     ]
    }
   ],
   "source": [
    "for title in title_all:\n",
    "    if title.a !=None:\n",
    "        print(title.a.string)"
   ]
  },
  {
   "cell_type": "code",
   "execution_count": null,
   "id": "7f7a4b50",
   "metadata": {},
   "outputs": [],
   "source": []
  },
  {
   "cell_type": "code",
   "execution_count": null,
   "id": "1cd9e06f",
   "metadata": {},
   "outputs": [],
   "source": []
  }
 ],
 "metadata": {
  "kernelspec": {
   "display_name": "Python 3 (ipykernel)",
   "language": "python",
   "name": "python3"
  },
  "language_info": {
   "codemirror_mode": {
    "name": "ipython",
    "version": 3
   },
   "file_extension": ".py",
   "mimetype": "text/x-python",
   "name": "python",
   "nbconvert_exporter": "python",
   "pygments_lexer": "ipython3",
   "version": "3.9.13"
  }
 },
 "nbformat": 4,
 "nbformat_minor": 5
}
